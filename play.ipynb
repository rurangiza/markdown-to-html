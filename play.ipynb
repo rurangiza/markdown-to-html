{
 "cells": [
  {
   "cell_type": "code",
   "execution_count": 18,
   "metadata": {},
   "outputs": [
    {
     "name": "stdout",
     "output_type": "stream",
     "text": [
      "This is text with an \n",
      "![image](https://i.imgur.com/zjjcJKZ.png)\n",
      " and another \n",
      "![second image](https://i.imgur.com/3elNhQu.png)\n",
      "\n"
     ]
    }
   ],
   "source": [
    "import re\n",
    "\n",
    "def extract_markdown_images(text):\n",
    "    return re.findall(r\"!\\[(.*?)\\]\\((.*?)\\)\", text)\n",
    "\n",
    "text = \"This is text with an ![image](https://i.imgur.com/zjjcJKZ.png) and another ![second image](https://i.imgur.com/3elNhQu.png)\"\n",
    "images = list(extract_markdown_images(text))\n",
    "\n",
    "result = []\n",
    "for image in images: \n",
    "    str = f\"![{image[0]}]({image[1]})\"\n",
    "    chunks = []\n",
    "    if len(result) == 0:\n",
    "        chunks = text.split(str)\n",
    "    else:\n",
    "        chunks = result.pop().split(str)\n",
    "    for i, chunk in enumerate(chunks):\n",
    "        if i == 1:\n",
    "            result.append(str)\n",
    "        result.append(chunk)\n",
    "\n",
    "\n",
    "for r in result:\n",
    "    print(r)"
   ]
  },
  {
   "cell_type": "markdown",
   "metadata": {},
   "source": [
    "```\n",
    "[\n",
    "    TextNode(\"This is text with an \", text_type_text),\n",
    "    TextNode(\"image\", text_type_image, \"https://i.imgur.com/zjjcJKZ.png\"),\n",
    "    TextNode(\" and another \", text_type_text),\n",
    "    TextNode(\n",
    "        \"second image\", text_type_image, \"https://i.imgur.com/3elNhQu.png\"\n",
    "    ),\n",
    "]\n",
    "\n",
    "```"
   ]
  }
 ],
 "metadata": {
  "kernelspec": {
   "display_name": "Python 3",
   "language": "python",
   "name": "python3"
  },
  "language_info": {
   "codemirror_mode": {
    "name": "ipython",
    "version": 3
   },
   "file_extension": ".py",
   "mimetype": "text/x-python",
   "name": "python",
   "nbconvert_exporter": "python",
   "pygments_lexer": "ipython3",
   "version": "3.11.4"
  }
 },
 "nbformat": 4,
 "nbformat_minor": 2
}
